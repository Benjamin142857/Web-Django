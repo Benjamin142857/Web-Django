{
 "cells": [
  {
   "cell_type": "code",
   "execution_count": 1,
   "metadata": {
    "collapsed": true
   },
   "outputs": [],
   "source": [
    "import os\n",
    "os.environ.setdefault(\"DJANGO_SETTINGS_MODULE\", \"Web_Django.settings\")\n",
    "\n",
    "import django\n",
    "django.setup()"
   ]
  },
  {
   "cell_type": "code",
   "execution_count": 2,
   "metadata": {},
   "outputs": [],
   "source": [
    "from app01 import models\n",
    "from django.db.models import Max, Min, Avg, Sum, Count, F, Q"
   ]
  },
  {
   "cell_type": "code",
   "execution_count": 5,
   "metadata": {},
   "outputs": [
    {
     "name": "stdout",
     "output_type": "stream",
     "text": [
      "{'price__max': 150}\n{'price__min': 10}\n{'price__avg': 61.2222}\n{'price__count': 9}\n\n\n{'price__max': 150}\n{'price__min': 10}\n{'price__avg': 61.2222}\n{'price__count': 9}\n"
     ]
    }
   ],
   "source": [
    "# 聚合示例，可对 models.Book.objects 或 QuerySet 进行 aggregate\n",
    "print(models.Book.objects.aggregate(Max('price')))\n",
    "print(models.Book.objects.aggregate(Min('price')))\n",
    "print(models.Book.objects.aggregate(Avg('price')))\n",
    "print(models.Book.objects.aggregate(Count('price')))\n",
    "print('\\n')\n",
    "print(models.Book.objects.all().aggregate(Max('price')))\n",
    "print(models.Book.objects.all().aggregate(Min('price')))\n",
    "print(models.Book.objects.all().aggregate(Avg('price')))\n",
    "print(models.Book.objects.all().aggregate(Count('price')))"
   ]
  },
  {
   "cell_type": "code",
   "execution_count": 28,
   "metadata": {},
   "outputs": [
    {
     "name": "stdout",
     "output_type": "stream",
     "text": [
      "{'price__max': 60}\n{'price__avg': 35.1667}\n{'price__max': 60, 'price__avg': 35.1667}\n{'草泥马': 60, 'b': 35.1667}\n"
     ]
    }
   ],
   "source": [
    "# 聚合与命名\n",
    "print(models.Book.objects.filter(id__gt=5).aggregate(Max('price')))\n",
    "print(models.Book.objects.filter(id__gt=5).aggregate(Avg('price')))\n",
    "print(models.Book.objects.filter(id__gt=5).aggregate(Max('price'), Avg('price')))\n",
    "print(models.Book.objects.filter(id__gt=5).aggregate(草泥马=Max('price'), b=Avg('price')))"
   ]
  },
  {
   "cell_type": "code",
   "execution_count": 55,
   "metadata": {},
   "outputs": [
    {
     "name": "stdout",
     "output_type": "stream",
     "text": [
      "80\n35\n10\n23\n\n\n{'press__name': '广东工业大学出版社', 'min': 35}\n{'press__name': '沙雕出版社', 'min': 10}\n{'press__name': '沙河出版社', 'min': 23}\n{'press__name': '仿生实验室出版社', 'min': 80}\n"
     ]
    }
   ],
   "source": [
    "# annotate 返回QuerySet，只是在源数据对象中多加了aggregate属性\n",
    "\n",
    "# 获取每个出版社最便宜的书 \n",
    "# 方法一：在Press表按Press annotate然后以跨表信息aggregate\n",
    "ret = models.Press.objects.all().annotate(min=Min('book__price'))\n",
    "for i in ret:\n",
    "    print(i.min)\n",
    "\n",
    "print('\\n')\n",
    "\n",
    "# 方法二：在Book表按Press annotate然后以本表信息aggregate\n",
    "ret = models.Book.objects.values('press__name').annotate(min=Min('price'))\n",
    "for i in ret:\n",
    "    print(i)"
   ]
  },
  {
   "cell_type": "code",
   "execution_count": 72,
   "metadata": {},
   "outputs": [
    {
     "name": "stdout",
     "output_type": "stream",
     "text": [
      "{'id': 11, 'book_id': 'd00002', 'name': '沙河粉村相册', 'press_id': 5, 'price': 8, 'pub_date': datetime.date(2019, 5, 7)}\n{'id': 11, 'book_id': 'd00002', 'name': '沙河粉村相册', 'press_id': 5, 'price': 8, 'pub_date': datetime.date(2019, 5, 7)}\n"
     ]
    },
    {
     "data": {
      "text/plain": [
       "9"
      ]
     },
     "execution_count": 72,
     "metadata": {},
     "output_type": "execute_result"
    }
   ],
   "source": [
    "# F表内查询 - F本质就是动态取值\n",
    "ret = models.Book.objects.filter(id__gt=F('price')).values()\n",
    "for i in ret:\n",
    "    print(i)\n",
    "    \n",
    "ret = models.Book.objects.filter(price__lt=F('id')).values()\n",
    "for i in ret:\n",
    "    print(i)\n",
    "    \n",
    "# F表内根据原数据批量变化\n",
    "models.Book.objects.all().update(price=F('price')*2)\n"
   ]
  },
  {
   "cell_type": "code",
   "execution_count": 17,
   "metadata": {},
   "outputs": [
    {
     "name": "stdout",
     "output_type": "stream",
     "text": [
      "(AND: ('id__lt', 4)) <class 'django.db.models.query_utils.Q'>\n(AND: (OR: ('id__lt', 4), (NOT (AND: ('id__gt', 8))), ('id__gt', 0)), ('id__lt', 4))\n(NOT (AND: ('id__gt', 8)))\n\n\na00001-Benjamin传记\nc00002-沙雕古富源\nd00001-沙河粉的故事\nd00002-沙河粉村相册\n"
     ]
    }
   ],
   "source": [
    "# Q关系查询 - 为查询添加或且非关系运算 优先级  ~ > & > |\n",
    "print(Q(id__lt=4), type(Q(id__lt=4)))\n",
    "print((Q(id__lt=4) | ~Q(id__gt=8) | Q(id__gt=0)) & Q(id__lt=4))\n",
    "print(~Q(id__gt=8))\n",
    "\n",
    "print('\\n')\n",
    "\n",
    "a = Q(id__lt=4) | Q(id__gt=8)\n",
    "ret = models.Book.objects.filter(a)\n",
    "for i in ret:\n",
    "    print(i)"
   ]
  },
  {
   "cell_type": "code",
   "execution_count": 106,
   "metadata": {},
   "outputs": [
    {
     "name": "stdout",
     "output_type": "stream",
     "text": [
      "1\n2\ninvalid literal for int() with base 10: 'ac'\n"
     ]
    }
   ],
   "source": [
    "# transaction - 有异常则放弃所有执行（只针对于ORM操作，亲测print无效）\n",
    "from django.db import transaction\n",
    "\n",
    "try:\n",
    "    with transaction.atomic():\n",
    "        print(1)\n",
    "        print(2)\n",
    "        int('ac')\n",
    "        print(3)\n",
    "        print(4)\n",
    "except Exception as e:\n",
    "    print(e)"
   ]
  },
  {
   "cell_type": "code",
   "execution_count": 110,
   "metadata": {},
   "outputs": [
    {
     "name": "stdout",
     "output_type": "stream",
     "text": [
      "invalid literal for int() with base 10: 'ac'\n"
     ]
    }
   ],
   "source": [
    "try:\n",
    "    with transaction.atomic():\n",
    "        models.Press.objects.create(name='超级出版社3')\n",
    "        int('ac')\n",
    "        models.Press.objects.create(name='超级出版社4')\n",
    "except Exception as e:\n",
    "    print(e)"
   ]
  },
  {
   "cell_type": "code",
   "execution_count": 8,
   "metadata": {},
   "outputs": [
    {
     "name": "stdout",
     "output_type": "stream",
     "text": [
      "{'max_price': 150}\n{'max_price': 55}\n{'max_price': 28}\n{'max_price': 23}\n{'max_price': None}\n{'max_price': None}\n\n\n{'max_price': 150}\n{'max_price': 55}\n{'max_price': 28}\n{'max_price': 23}\n\n\n{'name': '广东工业大学出版社', 'book_count': 2}\n{'name': '沙雕出版社', 'book_count': 2}\n{'name': '沙河出版社', 'book_count': 2}\n{'name': '仿生实验室出版社', 'book_count': 3}\n{'name': '超级出版社1', 'book_count': 0}\n{'name': '超级出版社2', 'book_count': 0}\n\n\n{'press__name': '广东工业大学出版社', 'book_count': 2}\n{'press__name': '沙雕出版社', 'book_count': 2}\n{'press__name': '沙河出版社', 'book_count': 2}\n{'press__name': '仿生实验室出版社', 'book_count': 3}\n\n\n"
     ]
    }
   ],
   "source": [
    "# 查找每个出版社价格最高的书籍价格\n",
    "# 1.从出版社找\n",
    "ret = models.Press.objects.values('name').annotate(max_price=Max('book__price')).values('max_price')\n",
    "for i in ret:\n",
    "    print(i)\n",
    "print('\\n')\n",
    "\n",
    "# 2.从书籍找\n",
    "ret = models.Book.objects.values('press__name').annotate(max_price=Max('price')).values('max_price')\n",
    "for i in ret:\n",
    "    print(i)\n",
    "print('\\n')\n",
    "\n",
    "# 查找每个出版社的名字以及出的书的数量\n",
    "# 1. 从出版社找\n",
    "ret = models.Press.objects.values('name').annotate(book_count=Count('book')).values('name', 'book_count')\n",
    "for i in ret:\n",
    "    print(i)\n",
    "print('\\n')\n",
    "\n",
    "# 2. 从书籍找\n",
    "ret = models.Book.objects.values('press__name').annotate(book_count=Count('id')).values('press__name', 'book_count')\n",
    "for i in ret:\n",
    "    print(i)\n",
    "print('\\n')\n"
   ]
  },
  {
   "cell_type": "code",
   "execution_count": 12,
   "metadata": {},
   "outputs": [
    {
     "name": "stdout",
     "output_type": "stream",
     "text": [
      "Benjamin传记 110\nBenjamin与Stella的爱情故事 80\nBionic的崛起 150\n55.0\n"
     ]
    }
   ],
   "source": [
    "ret = models.Book.objects.filter(price__gt=models.Book.objects.aggregate(avg=Avg('price')).get('avg'))\n",
    "for i in ret:\n",
    "    print(i.name, i.price)\n",
    "print(models.Book.objects.aggregate(avg=Avg('price')).get('avg'))\n",
    "\n"
   ]
  },
  {
   "cell_type": "code",
   "execution_count": 15,
   "metadata": {},
   "outputs": [
    {
     "data": {
      "text/plain": [
       "<QuerySet [<Book: a00001-Benjamin传记>, <Book: a00002-Benjamin与Stella的爱情故事>]>"
      ]
     },
     "execution_count": 15,
     "metadata": {},
     "output_type": "execute_result"
    }
   ],
   "source": [
    "models.Book.objects.filter(name__contains=F('press__name'))"
   ]
  },
  {
   "cell_type": "code",
   "execution_count": null,
   "metadata": {},
   "outputs": [],
   "source": []
  }
 ],
 "metadata": {
  "kernelspec": {
   "display_name": "Python 2",
   "language": "python",
   "name": "python2"
  },
  "language_info": {
   "codemirror_mode": {
    "name": "ipython",
    "version": 2
   },
   "file_extension": ".py",
   "mimetype": "text/x-python",
   "name": "python",
   "nbconvert_exporter": "python",
   "pygments_lexer": "ipython2",
   "version": "2.7.6"
  }
 },
 "nbformat": 4,
 "nbformat_minor": 0
}

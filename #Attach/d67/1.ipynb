{
 "cells": [
  {
   "cell_type": "code",
   "execution_count": 1,
   "metadata": {
    "collapsed": true
   },
   "outputs": [],
   "source": [
    "import os\n",
    "os.environ.setdefault(\"DJANGO_SETTINGS_MODULE\", \"Web_Django.settings\")\n",
    "\n",
    "import django\n",
    "django.setup()"
   ]
  },
  {
   "cell_type": "code",
   "execution_count": 2,
   "metadata": {},
   "outputs": [],
   "source": [
    "from app01 import models"
   ]
  },
  {
   "cell_type": "code",
   "execution_count": 3,
   "metadata": {},
   "outputs": [
    {
     "name": "stderr",
     "output_type": "stream",
     "text": [
      "(0.001) SELECT @@SQL_AUTO_IS_NULL; args=None\n"
     ]
    },
    {
     "name": "stderr",
     "output_type": "stream",
     "text": [
      "(0.003) SET SESSION TRANSACTION ISOLATION LEVEL READ COMMITTED; args=None\n"
     ]
    },
    {
     "name": "stderr",
     "output_type": "stream",
     "text": [
      "(0.005) SELECT `app01_press`.`id`, `app01_press`.`name` FROM `app01_press`; args=()\n"
     ]
    },
    {
     "name": "stdout",
     "output_type": "stream",
     "text": [
      "广东工业大学出版社\n沙雕出版社\n沙河出版社\n仿生实验室出版社\n"
     ]
    }
   ],
   "source": [
    "for i in models.Press.objects.all():\n",
    "    print(i.name)"
   ]
  },
  {
   "cell_type": "code",
   "execution_count": 4,
   "metadata": {},
   "outputs": [
    {
     "name": "stderr",
     "output_type": "stream",
     "text": [
      "(0.012) SELECT `app01_book`.`id`, `app01_book`.`book_id`, `app01_book`.`name`, `app01_book`.`press_id`, `app01_book`.`pub_date` FROM `app01_book` INNER JOIN `app01_press` ON (`app01_book`.`press_id` = `app01_press`.`id`) WHERE `app01_press`.`name` = '仿生实验室出版社'  LIMIT 21; args=('仿生实验室出版社',)\n"
     ]
    },
    {
     "data": {
      "text/plain": [
       "<QuerySet [<Book: a00001-Benjamin传记>, <Book: a00002-Benjamin与Stella的爱情故事>, <Book: a00003-Bionic的崛起>]>"
      ]
     },
     "execution_count": 4,
     "metadata": {},
     "output_type": "execute_result"
    }
   ],
   "source": [
    "models.Book.objects.filter(press__name='仿生实验室出版社')"
   ]
  },
  {
   "cell_type": "code",
   "execution_count": 8,
   "metadata": {},
   "outputs": [
    {
     "name": "stderr",
     "output_type": "stream",
     "text": [
      "(0.002) SELECT `app01_press`.`id`, `app01_press`.`name` FROM `app01_press` WHERE `app01_press`.`name` = '仿生实验室出版社' ORDER BY `app01_press`.`id` ASC  LIMIT 1; args=('仿生实验室出版社',)\n"
     ]
    },
    {
     "name": "stderr",
     "output_type": "stream",
     "text": [
      "(0.007) SELECT `app01_book`.`id`, `app01_book`.`book_id`, `app01_book`.`name`, `app01_book`.`press_id`, `app01_book`.`pub_date` FROM `app01_book` WHERE `app01_book`.`press_id` = 6  LIMIT 21; args=(6,)\n"
     ]
    },
    {
     "data": {
      "text/plain": [
       "<QuerySet [<Book: a00001-Benjamin传记>, <Book: a00002-Benjamin与Stella的爱情故事>, <Book: a00003-Bionic的崛起>]>"
      ]
     },
     "execution_count": 8,
     "metadata": {},
     "output_type": "execute_result"
    }
   ],
   "source": [
    "models.Press.objects.filter(name='仿生实验室出版社').first().book_set.all()"
   ]
  },
  {
   "cell_type": "code",
   "execution_count": null,
   "metadata": {},
   "outputs": [],
   "source": []
  }
 ],
 "metadata": {
  "kernelspec": {
   "display_name": "Python 2",
   "language": "python",
   "name": "python2"
  },
  "language_info": {
   "codemirror_mode": {
    "name": "ipython",
    "version": 2
   },
   "file_extension": ".py",
   "mimetype": "text/x-python",
   "name": "python",
   "nbconvert_exporter": "python",
   "pygments_lexer": "ipython2",
   "version": "2.7.6"
  }
 },
 "nbformat": 4,
 "nbformat_minor": 0
}
